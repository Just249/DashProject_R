{
 "cells": [
  {
   "cell_type": "code",
   "execution_count": null,
   "id": "36649069",
   "metadata": {},
   "outputs": [],
   "source": [
    "# Load the required packages\n",
    "library(np)\n",
    "\n",
    "wage1 <- read.csv(\"https://raw.githubusercontent.com/vincentarelbundock/Rdatasets/master/csv/wooldridge/wage1.csv\")\n",
    "\n",
    "# Fit the parametric linear regression model\n",
    "lm_model <- lm(lwage ~ female + married + educ + exper + tenure, data = wage1)\n",
    "\n",
    "# Fit the nonparametric local linear regression model with bandwidths chosen using corrected AIC\n",
    "np_model_bw <- npregbw(lwage ~ female + married + educ + exper + tenure, data = wage1, regtype = \"ll\", bwmethod = \"cv.aic\")\n",
    "np_model <- npreg(bws = np_model_bw)\n",
    "\n",
    "# Create a plot of the data and overlay the estimated regression curves\n",
    "plot(wage1$educ, wage1$lwage, xlab = \"Education\", ylab = \"Log Wage\", col = \"grey\", main = \"Comparison of Parametric and Non-Parametric Fits\")\n",
    "lines(sort(wage1$educ), predict(lm_model, newdata = data.frame(educ = sort(wage1$educ))), col = \"blue\", lwd = 2)\n",
    "lines(sort(wage1$educ), predict(np_model, newdata = data.frame(educ = sort(wage1$educ))), col = \"red\", lwd = 2)\n",
    "\n",
    "# Add a legend to the plot\n",
    "legend(\"bottomright\", c(\"Parametric Fit\", \"Non-Parametric Fit\"), lty = 1, col = c(\"blue\", \"red\"), bty = \"n\")\n"
   ]
  }
 ],
 "metadata": {
  "kernelspec": {
   "display_name": "R",
   "language": "R",
   "name": "ir"
  },
  "language_info": {
   "codemirror_mode": "r",
   "file_extension": ".r",
   "mimetype": "text/x-r-source",
   "name": "R",
   "pygments_lexer": "r",
   "version": "4.2.2"
  }
 },
 "nbformat": 4,
 "nbformat_minor": 5
}
