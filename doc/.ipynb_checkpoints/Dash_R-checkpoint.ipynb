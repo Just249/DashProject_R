{
 "cells": [
  {
   "cell_type": "code",
   "execution_count": 1,
   "id": "27fe7e77",
   "metadata": {},
   "outputs": [],
   "source": [
    "# # Example 1: Scatterplot with title, axis labels, and point color and shape\n",
    "# x <- c(1, 2, 3, 4, 5)\n",
    "# y <- c(2, 4, 6, 8, 10)\n",
    "# plot(x, y, main = \"My Scatterplot\", xlab = \"X-axis\", ylab = \"Y-axis\", col = \"red\", pch = 19)"
   ]
  },
  {
   "cell_type": "code",
   "execution_count": 2,
   "id": "9a36d400",
   "metadata": {},
   "outputs": [],
   "source": [
    "# # Example 2: Line graph with title, axis labels, and axis limits\n",
    "# x <- c(1, 2, 3, 4, 5)\n",
    "# y <- c(2, 4, 6, 8, 10)\n",
    "# plot(x, y, type = \"l\", main = \"My Line Graph\", xlab = \"X-axis\", ylab = \"Y-axis\", xlim = c(0, 6), ylim = c(0, 12))"
   ]
  },
  {
   "cell_type": "code",
   "execution_count": 3,
   "id": "2fa0694d",
   "metadata": {},
   "outputs": [
    {
     "ename": "ERROR",
     "evalue": "Error in xy.coords(x, y, xlabel, ylabel, log): 'x' is a list, but does not have components 'x' and 'y'\n",
     "output_type": "error",
     "traceback": [
      "Error in xy.coords(x, y, xlabel, ylabel, log): 'x' is a list, but does not have components 'x' and 'y'\nTraceback:\n",
      "1. plot(x = list(a, y, z), main = \"My Boxplot\", xlab = \"Group\", \n .     ylab = \"Value\", horizontal = TRUE)",
      "2. plot.default(x = list(a, y, z), main = \"My Boxplot\", xlab = \"Group\", \n .     ylab = \"Value\", horizontal = TRUE)",
      "3. xy.coords(x, y, xlabel, ylabel, log)",
      "4. stop(\"'x' is a list, but does not have components 'x' and 'y'\")"
     ]
    }
   ],
   "source": [
    "# Example 3: Boxplot with title, axis labels, and horizontal orientation\n",
    "a <- c(1, 2, 3, 4, 5)\n",
    "y <- c(2, 4, 6, 8, 10)\n",
    "z <- c(3, 6, 9, 12, 15)\n",
    "plot(x = list(a, y, z), main = \"My Boxplot\", xlab = \"Group\", ylab = \"Value\", horizontal = TRUE)"
   ]
  },
  {
   "cell_type": "code",
   "execution_count": 14,
   "id": "6fb6767e",
   "metadata": {},
   "outputs": [
    {
     "name": "stderr",
     "output_type": "stream",
     "text": [
      "ERROR while rich displaying an object: \u001b[1m\u001b[33mError\u001b[39m in `geom_line()`:\u001b[22m\n",
      "\u001b[1m\u001b[22m\u001b[33m!\u001b[39m Problem while computing aesthetics.\n",
      "\u001b[36mℹ\u001b[39m Error occurred in the 1st layer.\n",
      "\u001b[1mCaused by error in `FUN()`:\u001b[22m\n",
      "\u001b[33m!\u001b[39m object 'x' not found\n",
      "\n",
      "Traceback:\n",
      "1. tryCatch(withCallingHandlers({\n",
      " .     if (!mime %in% names(repr::mime2repr)) \n",
      " .         stop(\"No repr_* for mimetype \", mime, \" in repr::mime2repr\")\n",
      " .     rpr <- repr::mime2repr[[mime]](obj)\n",
      " .     if (is.null(rpr)) \n",
      " .         return(NULL)\n",
      " .     prepare_content(is.raw(rpr), rpr)\n",
      " . }, error = error_handler), error = outer_handler)\n",
      "2. tryCatchList(expr, classes, parentenv, handlers)\n",
      "3. tryCatchOne(expr, names, parentenv, handlers[[1L]])\n",
      "4. doTryCatch(return(expr), name, parentenv, handler)\n",
      "5. withCallingHandlers({\n",
      " .     if (!mime %in% names(repr::mime2repr)) \n",
      " .         stop(\"No repr_* for mimetype \", mime, \" in repr::mime2repr\")\n",
      " .     rpr <- repr::mime2repr[[mime]](obj)\n",
      " .     if (is.null(rpr)) \n",
      " .         return(NULL)\n",
      " .     prepare_content(is.raw(rpr), rpr)\n",
      " . }, error = error_handler)\n",
      "6. repr::mime2repr[[mime]](obj)\n",
      "7. repr_text.default(obj)\n",
      "8. paste(capture.output(print(obj)), collapse = \"\\n\")\n",
      "9. capture.output(print(obj))\n",
      "10. withVisible(...elt(i))\n",
      "11. print(obj)\n",
      "12. print.ggplot(obj)\n",
      "13. ggplot_build(x)\n",
      "14. ggplot_build.ggplot(x)\n",
      "15. by_layer(function(l, d) l$compute_aesthetics(d, plot), layers, \n",
      "  .     data, \"computing aesthetics\")\n",
      "16. try_fetch(for (i in seq_along(data)) {\n",
      "  .     out[[i]] <- f(l = layers[[i]], d = data[[i]])\n",
      "  . }, error = function(cnd) {\n",
      "  .     cli::cli_abort(c(\"Problem while {step}.\", i = \"Error occurred in the {ordinal(i)} layer.\"), \n",
      "  .         call = layers[[i]]$constructor, parent = cnd)\n",
      "  . })\n",
      "17. tryCatch(withCallingHandlers(expr, error = function(cnd) {\n",
      "  .     {\n",
      "  .         .__handler_frame__. <- TRUE\n",
      "  .         .__setup_frame__. <- frame\n",
      "  .     }\n",
      "  .     out <- handlers[[1L]](cnd)\n",
      "  .     if (!inherits(out, \"rlang_zap\")) \n",
      "  .         throw(out)\n",
      "  . }), stackOverflowError = handlers[[1L]])\n",
      "18. tryCatchList(expr, classes, parentenv, handlers)\n",
      "19. tryCatchOne(expr, names, parentenv, handlers[[1L]])\n",
      "20. doTryCatch(return(expr), name, parentenv, handler)\n",
      "21. withCallingHandlers(expr, error = function(cnd) {\n",
      "  .     {\n",
      "  .         .__handler_frame__. <- TRUE\n",
      "  .         .__setup_frame__. <- frame\n",
      "  .     }\n",
      "  .     out <- handlers[[1L]](cnd)\n",
      "  .     if (!inherits(out, \"rlang_zap\")) \n",
      "  .         throw(out)\n",
      "  . })\n",
      "22. f(l = layers[[i]], d = data[[i]])\n",
      "23. l$compute_aesthetics(d, plot)\n",
      "24. compute_aesthetics(..., self = self)\n",
      "25. scales_add_defaults(plot$scales, data, aesthetics, plot$plot_env)\n",
      "26. lapply(aesthetics[new_aesthetics], eval_tidy, data = data)\n",
      "27. FUN(X[[i]], ...)\n",
      "28. .handleSimpleError(function (cnd) \n",
      "  . {\n",
      "  .     {\n",
      "  .         .__handler_frame__. <- TRUE\n",
      "  .         .__setup_frame__. <- frame\n",
      "  .     }\n",
      "  .     out <- handlers[[1L]](cnd)\n",
      "  .     if (!inherits(out, \"rlang_zap\")) \n",
      "  .         throw(out)\n",
      "  . }, \"object 'x' not found\", base::quote(FUN(X[[i]], ...)))\n",
      "29. h(simpleError(msg, call))\n",
      "30. handlers[[1L]](cnd)\n",
      "31. cli::cli_abort(c(\"Problem while {step}.\", i = \"Error occurred in the {ordinal(i)} layer.\"), \n",
      "  .     call = layers[[i]]$constructor, parent = cnd)\n",
      "32. rlang::abort(message, ..., call = call, use_cli_format = TRUE, \n",
      "  .     .frame = .frame)\n",
      "33. signal_abort(cnd, .file)\n"
     ]
    }
   ],
   "source": [
    "library(ggplot2)\n",
    "wage <- read.csv(\"https://raw.githubusercontent.com/vincentarelbundock/Rdatasets/master/csv/wooldridge/wage1.csv\")\n",
    "model <- lm(lwage ~ female + married + educ + exper + tenure, data = Wage)\n",
    "# create a data frame with three variables\n",
    "data <- data.frame(wage = wage$lwage, female = wage$female, married = wage$married, educ = wage$educ, exper = wage$exper, \n",
    "                   tenure = wage$tenure)\n",
    "\n",
    "# convert the data to long format\n",
    "data_long <- tidyr::pivot_longer(data, cols = c(\"female\",\"married\",\"educ\",\"exper\",\"tenure\"), names_to = \"variable\", values_to = \"value\")\n",
    "\n",
    "# plot the data using ggplot2\n",
    "ggplot(data_long, aes(x = wage$lwage, y = value, color = variable, shape = variable)) +\n",
    "  geom_line() +\n",
    "  geom_point() +\n",
    "  labs(x = \"X-axis\", y = \"Value\") +\n",
    "  scale_color_manual(values = c(\"red\", \"blue\")) +\n",
    "  scale_shape_manual(values = c(1, 2))\n"
   ]
  }
 ],
 "metadata": {
  "kernelspec": {
   "display_name": "R",
   "language": "R",
   "name": "ir"
  },
  "language_info": {
   "codemirror_mode": "r",
   "file_extension": ".r",
   "mimetype": "text/x-r-source",
   "name": "R",
   "pygments_lexer": "r",
   "version": "4.2.2"
  }
 },
 "nbformat": 4,
 "nbformat_minor": 5
}
